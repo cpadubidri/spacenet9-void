{
 "cells": [
  {
   "cell_type": "markdown",
   "id": "03a6494b",
   "metadata": {},
   "source": [
    "#### Convert keypoints to geo-coord (visualization)"
   ]
  },
  {
   "cell_type": "code",
   "execution_count": 2,
   "id": "a133cb16",
   "metadata": {},
   "outputs": [],
   "source": [
    "import os\n",
    "import sys\n",
    "sys.path.append(os.path.abspath('/home/savvas/SUPER-NAS/USERS/Chirag/PROJECTS/202504-spacenet9/data/spacenet9-void/src'))\n"
   ]
  },
  {
   "cell_type": "code",
   "execution_count": null,
   "id": "4db8c1f3",
   "metadata": {},
   "outputs": [],
   "source": [
    "import pandas as pd\n",
    "import json\n",
    "from shapely.geometry import mapping, Point\n",
    "from osgeo import gdal, osr\n",
    "from utils.geo import translate_tiepoints_to_geo_coords, transform_to_epsg\n",
    "\n",
    "sar_path = \"/home/savvas/SUPER-NAS/USERS/Chirag/PROJECTS/202504-spacenet9/data/spacenet9-void/data/train/03_sar_train_01.tif\"\n",
    "opt_path = \"/home/savvas/SUPER-NAS/USERS/Chirag/PROJECTS/202504-spacenet9/data/spacenet9-void/data/train/03_optical_train_01.tif\"\n",
    "tiepoints_path = \"/home/savvas/SUPER-NAS/USERS/Chirag/PROJECTS/202504-spacenet9/data/spacenet9-void/data/train/03_tiepoints_train_01.csv\"\n",
    "output_geojson_path = \"/home/savvas/SUPER-NAS/USERS/Chirag/PROJECTS/202504-spacenet9/data/spacenet9-void/data/train/03_tiepoints_train_01.geojson\"\n",
    "\n",
    "sar_ds = gdal.Open(sar_path)\n",
    "opt_ds = gdal.Open(opt_path)\n",
    "sar_gt = sar_ds.GetGeoTransform()\n",
    "opt_gt = opt_ds.GetGeoTransform()\n",
    "\n",
    "# === Get EPSG codes ===\n",
    "sar_srs = osr.SpatialReference(wkt=sar_ds.GetProjection())\n",
    "opt_srs = osr.SpatialReference(wkt=opt_ds.GetProjection())\n",
    "sar_epsg = int(sar_srs.GetAttrValue('AUTHORITY', 1))\n",
    "opt_epsg = int(opt_srs.GetAttrValue('AUTHORITY', 1))\n",
    "\n",
    "# === Load tiepoints ===\n",
    "df = pd.read_csv(tiepoints_path)\n",
    "\n",
    "# === Convert image coords to geo coords ===\n",
    "sar_y, sar_x = translate_tiepoints_to_geo_coords(df['sar_row'], df['sar_col'], sar_gt)\n",
    "opt_y, opt_x = translate_tiepoints_to_geo_coords(df['optical_row'], df['optical_col'], opt_gt)\n",
    "\n",
    "# === Reproject optical points to SAR CRS if needed ===\n",
    "if opt_epsg != sar_epsg:\n",
    "    opt_points = [Point(x, y) for x, y in zip(opt_x, opt_y)]\n",
    "    opt_points_reprojected = transform_to_epsg(opt_points, opt_epsg, sar_epsg)\n",
    "    opt_x = [p.x for p in opt_points_reprojected]\n",
    "    opt_y = [p.y for p in opt_points_reprojected]\n",
    "\n",
    "# === Prepare GeoJSON features ===\n",
    "features = []\n",
    "for i in range(len(sar_x)):\n",
    "    sar_point = Point(sar_x[i], sar_y[i])\n",
    "    opt_point = Point(opt_x[i], opt_y[i])\n",
    "    features.append({\n",
    "        \"type\": \"Feature\",\n",
    "        \"geometry\": mapping(sar_point),\n",
    "        \"properties\": {\n",
    "            \"type\": \"sar\",\n",
    "            \"index\": i\n",
    "        }\n",
    "    })\n",
    "    features.append({\n",
    "        \"type\": \"Feature\",\n",
    "        \"geometry\": mapping(opt_point),\n",
    "        \"properties\": {\n",
    "            \"type\": \"optical\",\n",
    "            \"index\": i\n",
    "        }\n",
    "    })\n",
    "\n",
    "# === Create GeoJSON with CRS block ===\n",
    "geojson = {\n",
    "    \"type\": \"FeatureCollection\",\n",
    "    \"crs\": {\n",
    "        \"type\": \"name\",\n",
    "        \"properties\": {\n",
    "            \"name\": f\"EPSG:{sar_epsg}\"\n",
    "        }\n",
    "    },\n",
    "    \"features\": features\n",
    "}\n",
    "\n",
    "# === Save to file ===\n",
    "with open(output_geojson_path, 'w') as f:       \n",
    "    json.dump(geojson, f, indent=2)\n",
    "\n"
   ]
  },
  {
   "cell_type": "code",
   "execution_count": null,
   "id": "07a5b0e9",
   "metadata": {},
   "outputs": [],
   "source": []
  }
 ],
 "metadata": {
  "kernelspec": {
   "display_name": "gisenv2",
   "language": "python",
   "name": "python3"
  },
  "language_info": {
   "codemirror_mode": {
    "name": "ipython",
    "version": 3
   },
   "file_extension": ".py",
   "mimetype": "text/x-python",
   "name": "python",
   "nbconvert_exporter": "python",
   "pygments_lexer": "ipython3",
   "version": "3.10.17"
  }
 },
 "nbformat": 4,
 "nbformat_minor": 5
}
